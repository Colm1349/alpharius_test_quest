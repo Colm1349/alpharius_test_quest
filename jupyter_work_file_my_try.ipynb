{
 "cells": [
  {
   "cell_type": "markdown",
   "metadata": {},
   "source": [
    "## Библиотеки "
   ]
  },
  {
   "cell_type": "code",
   "execution_count": 1,
   "metadata": {
    "execution": {
     "iopub.execute_input": "2022-04-29T11:14:09.612517Z",
     "iopub.status.busy": "2022-04-29T11:14:09.611601Z",
     "iopub.status.idle": "2022-04-29T11:14:09.617725Z",
     "shell.execute_reply": "2022-04-29T11:14:09.616729Z",
     "shell.execute_reply.started": "2022-04-29T11:14:09.612464Z"
    }
   },
   "outputs": [
    {
     "name": "stdout",
     "output_type": "stream",
     "text": [
      "Let me Die1\n"
     ]
    }
   ],
   "source": [
    "import numpy as np\n",
    "import pandas as pd\n",
    "from collections import Counter\n",
    "import random\n",
    "from random import randint\n",
    "\n",
    "import warnings # ?\n",
    "warnings.filterwarnings(\"ignore\") # убираем оповещения о предупреждениях. Не засоряем вывод\n",
    "print('Let me Die1')"
   ]
  },
  {
   "cell_type": "markdown",
   "metadata": {},
   "source": [
    "## Получение данных"
   ]
  },
  {
   "cell_type": "code",
   "execution_count": 2,
   "metadata": {
    "execution": {
     "iopub.execute_input": "2022-04-29T11:14:09.640173Z",
     "iopub.status.busy": "2022-04-29T11:14:09.639436Z",
     "iopub.status.idle": "2022-04-29T11:14:10.031891Z",
     "shell.execute_reply": "2022-04-29T11:14:10.031043Z",
     "shell.execute_reply.started": "2022-04-29T11:14:09.640141Z"
    }
   },
   "outputs": [],
   "source": [
    "df_train = pd.read_csv('F:\\Anac_python\\Examples_Python\\Jupyter_Notebook_stuff\\Alpha_test\\\\alfabank-campus\\df_train.csv', sep=';') # грузим скаченный файл csv с данными для тренинга в переменную\n",
    "df_test = pd.read_csv('F:\\Anac_python\\Examples_Python\\Jupyter_Notebook_stuff\\Alpha_test\\\\alfabank-campus\\df_test.csv', sep=';')   # грузим скаченный файл csv с даннымми для проверки тренировки в переменную"
   ]
  },
  {
   "cell_type": "code",
   "execution_count": 3,
   "metadata": {
    "execution": {
     "iopub.execute_input": "2022-04-29T11:14:10.033129Z",
     "iopub.status.busy": "2022-04-29T11:14:10.03292Z",
     "iopub.status.idle": "2022-04-29T11:14:11.483851Z",
     "shell.execute_reply": "2022-04-29T11:14:11.483019Z",
     "shell.execute_reply.started": "2022-04-29T11:14:10.033103Z"
    }
   },
   "outputs": [],
   "source": [
    "df_train['Data'] = df_train.Data.apply(lambda s: list(map(int, s.split(',')))) # Изначально в файле только 3 столбца \"id\", \"Data\" и \"Target\". Тянем в Data данные для обучения\n",
    "df_train['Target'] = df_train.Target.apply(lambda s: list(map(int, s.split(',')))) # Изначально в файле только 3 столбца \"id\", \"Data\" и \"Target\". Тянем в Target ответы для тренировки\n",
    "df_test['Data'] = df_test.Data.apply(lambda s: list(map(int, s.split(',')))) # Изначально в файле только 2 \"id\" и \"Data\" . Тянем в Data данные для отработки модели на точность"
   ]
  },
  {
   "cell_type": "code",
   "execution_count": 4,
   "metadata": {
    "execution": {
     "iopub.execute_input": "2022-04-29T11:14:11.485236Z",
     "iopub.status.busy": "2022-04-29T11:14:11.485019Z",
     "iopub.status.idle": "2022-04-29T11:14:11.500382Z",
     "shell.execute_reply": "2022-04-29T11:14:11.499438Z",
     "shell.execute_reply.started": "2022-04-29T11:14:11.48521Z"
    },
    "scrolled": true
   },
   "outputs": [
    {
     "data": {
      "text/html": [
       "<div>\n",
       "<style scoped>\n",
       "    .dataframe tbody tr th:only-of-type {\n",
       "        vertical-align: middle;\n",
       "    }\n",
       "\n",
       "    .dataframe tbody tr th {\n",
       "        vertical-align: top;\n",
       "    }\n",
       "\n",
       "    .dataframe thead th {\n",
       "        text-align: right;\n",
       "    }\n",
       "</style>\n",
       "<table border=\"1\" class=\"dataframe\">\n",
       "  <thead>\n",
       "    <tr style=\"text-align: right;\">\n",
       "      <th></th>\n",
       "      <th>Id</th>\n",
       "      <th>Data</th>\n",
       "      <th>Target</th>\n",
       "    </tr>\n",
       "  </thead>\n",
       "  <tbody>\n",
       "    <tr>\n",
       "      <th>0</th>\n",
       "      <td>0</td>\n",
       "      <td>[4814, 4814, 6010, 6011, 4814, 6011, 6011, 481...</td>\n",
       "      <td>[4814, 4814, 4814, 4814, 5411, 4814, 4814, 481...</td>\n",
       "    </tr>\n",
       "    <tr>\n",
       "      <th>1</th>\n",
       "      <td>1</td>\n",
       "      <td>[6011, 6011, 6011, 6011, 6011, 6011, 6011, 481...</td>\n",
       "      <td>[4814, 6011, 4814, 6011, 4814, 4814, 6011, 481...</td>\n",
       "    </tr>\n",
       "    <tr>\n",
       "      <th>2</th>\n",
       "      <td>2</td>\n",
       "      <td>[8021, 6011, 6011, 6010, 4829, 4814, 6011, 601...</td>\n",
       "      <td>[6011, 6011, 6010, 4829, 4829, 6010, 6011, 601...</td>\n",
       "    </tr>\n",
       "    <tr>\n",
       "      <th>3</th>\n",
       "      <td>3</td>\n",
       "      <td>[4814, 6011, 4814, 4814, 4814, 6011, 6011, 569...</td>\n",
       "      <td>[6011, 6011, 6010, 6011, 6011, 4814, 4814, 601...</td>\n",
       "    </tr>\n",
       "    <tr>\n",
       "      <th>4</th>\n",
       "      <td>4</td>\n",
       "      <td>[4814, 4814, 4814, 4814, 4814, 4814, 5946, 481...</td>\n",
       "      <td>[5499, 6011, 4814, 4829, 5200, 5411, 5499, 591...</td>\n",
       "    </tr>\n",
       "  </tbody>\n",
       "</table>\n",
       "</div>"
      ],
      "text/plain": [
       "   Id                                               Data  \\\n",
       "0   0  [4814, 4814, 6010, 6011, 4814, 6011, 6011, 481...   \n",
       "1   1  [6011, 6011, 6011, 6011, 6011, 6011, 6011, 481...   \n",
       "2   2  [8021, 6011, 6011, 6010, 4829, 4814, 6011, 601...   \n",
       "3   3  [4814, 6011, 4814, 4814, 4814, 6011, 6011, 569...   \n",
       "4   4  [4814, 4814, 4814, 4814, 4814, 4814, 5946, 481...   \n",
       "\n",
       "                                              Target  \n",
       "0  [4814, 4814, 4814, 4814, 5411, 4814, 4814, 481...  \n",
       "1  [4814, 6011, 4814, 6011, 4814, 4814, 6011, 481...  \n",
       "2  [6011, 6011, 6010, 4829, 4829, 6010, 6011, 601...  \n",
       "3  [6011, 6011, 6010, 6011, 6011, 4814, 4814, 601...  \n",
       "4  [5499, 6011, 4814, 4829, 5200, 5411, 5499, 591...  "
      ]
     },
     "execution_count": 4,
     "metadata": {},
     "output_type": "execute_result"
    }
   ],
   "source": [
    "df_train.head()"
   ]
  },
  {
   "cell_type": "code",
   "execution_count": 5,
   "metadata": {
    "execution": {
     "iopub.execute_input": "2022-04-29T11:14:11.502827Z",
     "iopub.status.busy": "2022-04-29T11:14:11.502457Z",
     "iopub.status.idle": "2022-04-29T11:14:11.513814Z",
     "shell.execute_reply": "2022-04-29T11:14:11.513239Z",
     "shell.execute_reply.started": "2022-04-29T11:14:11.502787Z"
    }
   },
   "outputs": [
    {
     "data": {
      "text/plain": [
       "(7033, 3)"
      ]
     },
     "execution_count": 5,
     "metadata": {},
     "output_type": "execute_result"
    }
   ],
   "source": [
    "df_train.shape"
   ]
  },
  {
   "cell_type": "code",
   "execution_count": 6,
   "metadata": {
    "execution": {
     "iopub.execute_input": "2022-04-29T11:14:11.515206Z",
     "iopub.status.busy": "2022-04-29T11:14:11.514984Z",
     "iopub.status.idle": "2022-04-29T11:14:11.530152Z",
     "shell.execute_reply": "2022-04-29T11:14:11.529394Z",
     "shell.execute_reply.started": "2022-04-29T11:14:11.51518Z"
    }
   },
   "outputs": [
    {
     "data": {
      "text/plain": [
       "Id         int64\n",
       "Data      object\n",
       "Target    object\n",
       "dtype: object"
      ]
     },
     "execution_count": 6,
     "metadata": {},
     "output_type": "execute_result"
    }
   ],
   "source": [
    "df_train.dtypes"
   ]
  },
  {
   "cell_type": "code",
   "execution_count": 7,
   "metadata": {
    "execution": {
     "iopub.execute_input": "2022-04-29T11:14:11.531664Z",
     "iopub.status.busy": "2022-04-29T11:14:11.531226Z",
     "iopub.status.idle": "2022-04-29T11:14:11.550728Z",
     "shell.execute_reply": "2022-04-29T11:14:11.550104Z",
     "shell.execute_reply.started": "2022-04-29T11:14:11.531626Z"
    }
   },
   "outputs": [
    {
     "data": {
      "text/html": [
       "<div>\n",
       "<style scoped>\n",
       "    .dataframe tbody tr th:only-of-type {\n",
       "        vertical-align: middle;\n",
       "    }\n",
       "\n",
       "    .dataframe tbody tr th {\n",
       "        vertical-align: top;\n",
       "    }\n",
       "\n",
       "    .dataframe thead th {\n",
       "        text-align: right;\n",
       "    }\n",
       "</style>\n",
       "<table border=\"1\" class=\"dataframe\">\n",
       "  <thead>\n",
       "    <tr style=\"text-align: right;\">\n",
       "      <th></th>\n",
       "      <th>Id</th>\n",
       "      <th>Data</th>\n",
       "    </tr>\n",
       "  </thead>\n",
       "  <tbody>\n",
       "    <tr>\n",
       "      <th>0</th>\n",
       "      <td>0</td>\n",
       "      <td>[4814, 4814, 6011, 6011, 6010, 6011, 6011, 481...</td>\n",
       "    </tr>\n",
       "    <tr>\n",
       "      <th>1</th>\n",
       "      <td>1</td>\n",
       "      <td>[6010, 6011, 6010, 5411, 5411, 5977, 6011, 601...</td>\n",
       "    </tr>\n",
       "    <tr>\n",
       "      <th>2</th>\n",
       "      <td>2</td>\n",
       "      <td>[4814, 6011, 5251, 6011, 7832, 5641, 5814, 482...</td>\n",
       "    </tr>\n",
       "    <tr>\n",
       "      <th>3</th>\n",
       "      <td>3</td>\n",
       "      <td>[6011, 4722, 4722, 4722, 4814, 6011, 6011, 482...</td>\n",
       "    </tr>\n",
       "    <tr>\n",
       "      <th>4</th>\n",
       "      <td>4</td>\n",
       "      <td>[4814, 4814, 4814, 6011, 4814, 4814, 4814, 481...</td>\n",
       "    </tr>\n",
       "  </tbody>\n",
       "</table>\n",
       "</div>"
      ],
      "text/plain": [
       "   Id                                               Data\n",
       "0   0  [4814, 4814, 6011, 6011, 6010, 6011, 6011, 481...\n",
       "1   1  [6010, 6011, 6010, 5411, 5411, 5977, 6011, 601...\n",
       "2   2  [4814, 6011, 5251, 6011, 7832, 5641, 5814, 482...\n",
       "3   3  [6011, 4722, 4722, 4722, 4814, 6011, 6011, 482...\n",
       "4   4  [4814, 4814, 4814, 6011, 4814, 4814, 4814, 481..."
      ]
     },
     "execution_count": 7,
     "metadata": {},
     "output_type": "execute_result"
    }
   ],
   "source": [
    "df_test.head()"
   ]
  },
  {
   "cell_type": "code",
   "execution_count": 8,
   "metadata": {
    "execution": {
     "iopub.execute_input": "2022-04-29T11:14:11.552565Z",
     "iopub.status.busy": "2022-04-29T11:14:11.552066Z",
     "iopub.status.idle": "2022-04-29T11:14:11.558796Z",
     "shell.execute_reply": "2022-04-29T11:14:11.558211Z",
     "shell.execute_reply.started": "2022-04-29T11:14:11.552523Z"
    }
   },
   "outputs": [
    {
     "data": {
      "text/plain": [
       "(7033, 2)"
      ]
     },
     "execution_count": 8,
     "metadata": {},
     "output_type": "execute_result"
    }
   ],
   "source": [
    "df_test.shape"
   ]
  },
  {
   "cell_type": "code",
   "execution_count": 9,
   "metadata": {
    "execution": {
     "iopub.execute_input": "2022-04-29T11:14:11.560312Z",
     "iopub.status.busy": "2022-04-29T11:14:11.5598Z",
     "iopub.status.idle": "2022-04-29T11:14:11.57612Z",
     "shell.execute_reply": "2022-04-29T11:14:11.575412Z",
     "shell.execute_reply.started": "2022-04-29T11:14:11.560283Z"
    }
   },
   "outputs": [
    {
     "data": {
      "text/plain": [
       "Id       int64\n",
       "Data    object\n",
       "dtype: object"
      ]
     },
     "execution_count": 9,
     "metadata": {},
     "output_type": "execute_result"
    }
   ],
   "source": [
    "df_test.dtypes"
   ]
  },
  {
   "cell_type": "markdown",
   "metadata": {},
   "source": [
    "## Функции (чё?)"
   ]
  },
  {
   "cell_type": "code",
   "execution_count": 10,
   "metadata": {
    "execution": {
     "iopub.execute_input": "2022-04-29T11:14:09.622183Z",
     "iopub.status.busy": "2022-04-29T11:14:09.621556Z",
     "iopub.status.idle": "2022-04-29T11:14:09.638102Z",
     "shell.execute_reply": "2022-04-29T11:14:09.637438Z",
     "shell.execute_reply.started": "2022-04-29T11:14:09.622136Z"
    }
   },
   "outputs": [],
   "source": [
    "# https://github.com/benhamner/Metrics/blob/master/Python/ml_metrics/average_precision.py\n",
    "def apk(actual, predicted, k=10):\n",
    "    \"\"\"\n",
    "    Computes the average precision at k.\n",
    "\n",
    "    This function computes the average prescision at k between two lists of\n",
    "    items.\n",
    "\n",
    "    Parameters\n",
    "    ----------\n",
    "    actual : list\n",
    "             A list of elements that are to be predicted (order doesn't matter)\n",
    "    predicted : list\n",
    "                A list of predicted elements (order does matter)\n",
    "    k : int, optional\n",
    "        The maximum number of predicted elements\n",
    "\n",
    "    Returns\n",
    "    -------\n",
    "    score : double\n",
    "            The average precision at k over the input lists\n",
    "\n",
    "    \"\"\"\n",
    "    if len(predicted) > k: # тянем первые k значений\n",
    "        predicted = predicted[:k]\n",
    "\n",
    "    score = 0.0    # общая сумма точности\n",
    "    num_hits = 0.0 # для подсчета числа верно предсказанных элементов. \n",
    "\n",
    "    for i, p in enumerate(predicted):\n",
    "        if p in actual and p not in predicted[:i]:\n",
    "            num_hits += 1.0\n",
    "            score += num_hits / (i+1.0)\n",
    "\n",
    "    if not actual:\n",
    "        return 0.0\n",
    "\n",
    "    return score / min(len(actual), k)\n",
    "\n",
    "def mapk(actual, predicted, k=10):\n",
    "    return np.mean([apk(a, p, k) for a, p in zip(actual, predicted)])"
   ]
  },
  {
   "cell_type": "markdown",
   "metadata": {},
   "source": [
    "## Baseline 1: топ10 MCC-кодов из train-части"
   ]
  },
  {
   "cell_type": "markdown",
   "metadata": {},
   "source": [
    "MCC-код и соответствующее количество вхождений в train-часть"
   ]
  },
  {
   "cell_type": "code",
   "execution_count": 11,
   "metadata": {
    "execution": {
     "iopub.execute_input": "2022-04-29T11:14:11.578638Z",
     "iopub.status.busy": "2022-04-29T11:14:11.578071Z",
     "iopub.status.idle": "2022-04-29T11:14:11.870233Z",
     "shell.execute_reply": "2022-04-29T11:14:11.869407Z",
     "shell.execute_reply.started": "2022-04-29T11:14:11.578596Z"
    },
    "scrolled": true
   },
   "outputs": [
    {
     "data": {
      "text/plain": [
       "6011    700677\n",
       "6010    490602\n",
       "4814    473396\n",
       "5411    472408\n",
       "4829    307388\n",
       "5499    164719\n",
       "5541     68224\n",
       "5912     65071\n",
       "5331     61833\n",
       "5812     52029\n",
       "Name: Data, dtype: int64"
      ]
     },
     "execution_count": 11,
     "metadata": {},
     "output_type": "execute_result"
    }
   ],
   "source": [
    "# Разбиваем explode'ом список на несколько строк с одним значением.\n",
    "# Считаем уникальные значения списке\n",
    "# Берем первые 10 уникальных значений по убыванию. От самых частых и популярных в сторону уменьшения популярности\n",
    "top10_codes = df_train['Data'].explode().value_counts().head(10) \n",
    "# Выводи наш \"топ10 аниме предательств\" для наглядности\n",
    "top10_codes"
   ]
  },
  {
   "cell_type": "code",
   "execution_count": 12,
   "metadata": {},
   "outputs": [
    {
     "name": "stdout",
     "output_type": "stream",
     "text": [
      "<class 'pandas.core.frame.DataFrame'>\n",
      "RangeIndex: 7033 entries, 0 to 7032\n",
      "Data columns (total 3 columns):\n",
      " #   Column  Non-Null Count  Dtype \n",
      "---  ------  --------------  ----- \n",
      " 0   Id      7033 non-null   int64 \n",
      " 1   Data    7033 non-null   object\n",
      " 2   Target  7033 non-null   object\n",
      "dtypes: int64(1), object(2)\n",
      "memory usage: 165.0+ KB\n"
     ]
    }
   ],
   "source": [
    "df_train.info()"
   ]
  },
  {
   "cell_type": "code",
   "execution_count": 20,
   "metadata": {
    "execution": {
     "iopub.execute_input": "2022-04-29T11:14:11.871904Z",
     "iopub.status.busy": "2022-04-29T11:14:11.871565Z",
     "iopub.status.idle": "2022-04-29T11:14:12.116585Z",
     "shell.execute_reply": "2022-04-29T11:14:12.115645Z",
     "shell.execute_reply.started": "2022-04-29T11:14:11.871871Z"
    }
   },
   "outputs": [
    {
     "data": {
      "text/plain": [
       "0.2742435829727881"
      ]
     },
     "execution_count": 20,
     "metadata": {},
     "output_type": "execute_result"
    }
   ],
   "source": [
    "mapk(df_train['Target'], [top10_codes.index]*len(df_train)) # применяем магию математики. Тут надо подкуриться/поспать\n",
    "# df_train['Target']\n",
    "# [top10_codes.index]*len(df_train) делает 7033 списка с длиной 10\n",
    "# и они содержат в себе топ 10 самых популярных MCC кодов\n",
    "\n"
   ]
  },
  {
   "cell_type": "code",
   "execution_count": 24,
   "metadata": {},
   "outputs": [
    {
     "data": {
      "text/plain": [
       "count     7033.000000\n",
       "mean       473.322906\n",
       "std        811.665063\n",
       "min         40.000000\n",
       "50%        336.000000\n",
       "75%        570.000000\n",
       "90%        872.000000\n",
       "95%       1113.000000\n",
       "99%       2156.040000\n",
       "max      21101.000000\n",
       "Name: Data, dtype: float64"
      ]
     },
     "execution_count": 24,
     "metadata": {},
     "output_type": "execute_result"
    }
   ],
   "source": [
    "df_train[\"Data\"].map(len).describe([0.5,0.75,0.9,0.95,0.99])"
   ]
  },
  {
   "cell_type": "code",
   "execution_count": 23,
   "metadata": {},
   "outputs": [
    {
     "data": {
      "text/plain": [
       "count     7033.000000\n",
       "mean       476.756150\n",
       "std       1341.916565\n",
       "min         40.000000\n",
       "50%        344.000000\n",
       "75%        582.000000\n",
       "90%        867.000000\n",
       "95%       1108.000000\n",
       "99%       1916.680000\n",
       "max      88771.000000\n",
       "Name: Data, dtype: float64"
      ]
     },
     "execution_count": 23,
     "metadata": {},
     "output_type": "execute_result"
    }
   ],
   "source": [
    "df_test[\"Data\"].map(len).describe([0.5,0.75,0.9,0.95,0.99]) # для KAGGLE"
   ]
  },
  {
   "cell_type": "code",
   "execution_count": null,
   "metadata": {},
   "outputs": [],
   "source": []
  },
  {
   "cell_type": "markdown",
   "metadata": {},
   "source": [
    "## Baseline 2: cамые популярные транзакции пользователя."
   ]
  },
  {
   "cell_type": "markdown",
   "metadata": {},
   "source": [
    "**   \n",
    "1. Из массива датасета сделать дата фрейм: такой что\n",
    " - 2000 стоблцов по типу MCC_1 MCC_2 и по MCC_2000\n",
    " - если у чела меньше 2000 транзакций и всего типа 30-40-1999 то пустые дырки забиваем значением \"копия_значения_1, копия_значения_2, копия_значения_3, копия_значения_4, 1,2,3,4\" \n",
    " -  если у чела больше 2000 транзакций то хапаем в таблицу ПОСЛЕДНИЕ 2000 транзакций так как это более релевантные, епта \n",
    " - 10 столбцов предиктов. 1 2 3 4 5 6 и такое всё\n",
    "--! ПЕРСУШНЫЕ АЙДИШНИКИ НЕ ПИХАЕМ В НЕГО, а машина начнет эту херь мешать с MCC кодами -_-\n",
    "\n",
    "2. RandomForest траим\n",
    "Катбуст научился чет небалансные деревья крутить мб он ок\n",
    "\n",
    "Сначала выберем - catboost\n",
    "Потом попробуем - LightGBM\n",
    "может даже трайнуть такую - xgboost\n",
    "\n",
    "И им надо метрику прикрутить (AP@K при K=10) для 10ти столбцов с 30% Target'ом что бы сравнивать выход и желаемые значения!\n",
    "\n",
    "Это для тренинга\n",
    "Х - че влетает на вход. MCC коды \n",
    "Y - Ответы для ИКСОВ. \n",
    "Таблички Y и X имеют одинаковое кол-во строк и они не подлежат всяким сортировкам-перетиасовкам, епт\n",
    "Тут гайд подсказка:\n",
    "( https://stackoverflow.com/questions/50564167/xgboost-split-data-in-train-and-test )\n",
    "\n",
    "Надо выбрать агрегатор для 7000 человек-юзверей для 7000 AP@K'ов ВСТРОЕННОЙ ФУНКЦИЕЙ ПОЛУЧИМ MAP@K \n",
    "используем СРЕДНЕЕ ЗНАЧЕНИЕ, а не медианое (мб надо проверить этот момент)\n",
    "\n",
    "Косяки: модель может допереть что чтьо-то ест ьиз паттернов повторюхи для коротких челиксов! Но это маловероятно вроде быыыы ы\n",
    "Может быть косяк с тем, что модель полюбит рандомное значение (LICKeage). Но в жизни такая штука не будет МАССОВОЙ.  \n",
    "\n",
    "Ликов надо чистить по сути, с опытом понимаешь че как с ней.\n",
    "Читануть тут: https://en.wikipedia.org/wiki/Leakage_(machine_learning)\n",
    "\n",
    "**"
   ]
  },
  {
   "cell_type": "code",
   "execution_count": null,
   "metadata": {
    "execution": {
     "iopub.execute_input": "2022-04-29T11:27:16.705475Z",
     "iopub.status.busy": "2022-04-29T11:27:16.705186Z",
     "iopub.status.idle": "2022-04-29T11:27:16.712016Z",
     "shell.execute_reply": "2022-04-29T11:27:16.711084Z",
     "shell.execute_reply.started": "2022-04-29T11:27:16.705447Z"
    }
   },
   "outputs": [],
   "source": []
  },
  {
   "cell_type": "code",
   "execution_count": 25,
   "metadata": {
    "execution": {
     "iopub.execute_input": "2022-04-29T11:27:24.581273Z",
     "iopub.status.busy": "2022-04-29T11:27:24.581009Z",
     "iopub.status.idle": "2022-04-29T11:27:24.956126Z",
     "shell.execute_reply": "2022-04-29T11:27:24.95527Z",
     "shell.execute_reply.started": "2022-04-29T11:27:24.581246Z"
    }
   },
   "outputs": [],
   "source": [
    "df_train['pred_baseline_2'] = df_train['Data'].apply(get_top_codes)"
   ]
  },
  {
   "cell_type": "code",
   "execution_count": 16,
   "metadata": {
    "execution": {
     "iopub.execute_input": "2022-04-29T11:27:25.726792Z",
     "iopub.status.busy": "2022-04-29T11:27:25.726524Z",
     "iopub.status.idle": "2022-04-29T11:27:25.768098Z",
     "shell.execute_reply": "2022-04-29T11:27:25.76723Z",
     "shell.execute_reply.started": "2022-04-29T11:27:25.726763Z"
    }
   },
   "outputs": [
    {
     "data": {
      "text/plain": [
       "0.3236094127683776"
      ]
     },
     "execution_count": 16,
     "metadata": {},
     "output_type": "execute_result"
    }
   ],
   "source": [
    "mapk(df_train['Target'], df_train['pred_baseline_2'])"
   ]
  },
  {
   "cell_type": "markdown",
   "metadata": {},
   "source": [
    "## Submission"
   ]
  },
  {
   "cell_type": "markdown",
   "metadata": {},
   "source": [
    "предсказания из второго бейзлайна"
   ]
  },
  {
   "cell_type": "code",
   "execution_count": 17,
   "metadata": {
    "execution": {
     "iopub.execute_input": "2022-04-29T11:27:31.644781Z",
     "iopub.status.busy": "2022-04-29T11:27:31.644491Z",
     "iopub.status.idle": "2022-04-29T11:27:32.029352Z",
     "shell.execute_reply": "2022-04-29T11:27:32.028438Z",
     "shell.execute_reply.started": "2022-04-29T11:27:31.64475Z"
    }
   },
   "outputs": [],
   "source": [
    "df_test['Predicted'] = df_test['Data'].apply(get_top_codes)"
   ]
  },
  {
   "cell_type": "code",
   "execution_count": 18,
   "metadata": {
    "execution": {
     "iopub.execute_input": "2022-04-29T11:27:33.222901Z",
     "iopub.status.busy": "2022-04-29T11:27:33.222499Z",
     "iopub.status.idle": "2022-04-29T11:27:33.238841Z",
     "shell.execute_reply": "2022-04-29T11:27:33.238287Z",
     "shell.execute_reply.started": "2022-04-29T11:27:33.22286Z"
    }
   },
   "outputs": [
    {
     "data": {
      "text/html": [
       "<div>\n",
       "<style scoped>\n",
       "    .dataframe tbody tr th:only-of-type {\n",
       "        vertical-align: middle;\n",
       "    }\n",
       "\n",
       "    .dataframe tbody tr th {\n",
       "        vertical-align: top;\n",
       "    }\n",
       "\n",
       "    .dataframe thead th {\n",
       "        text-align: right;\n",
       "    }\n",
       "</style>\n",
       "<table border=\"1\" class=\"dataframe\">\n",
       "  <thead>\n",
       "    <tr style=\"text-align: right;\">\n",
       "      <th></th>\n",
       "      <th>Id</th>\n",
       "      <th>Data</th>\n",
       "      <th>Predicted</th>\n",
       "    </tr>\n",
       "  </thead>\n",
       "  <tbody>\n",
       "    <tr>\n",
       "      <th>0</th>\n",
       "      <td>0</td>\n",
       "      <td>[4814, 4814, 6011, 6011, 6010, 6011, 6011, 481...</td>\n",
       "      <td>[6011, 4814, 6010, 4829, 5499, 5541, 5411, 601...</td>\n",
       "    </tr>\n",
       "    <tr>\n",
       "      <th>1</th>\n",
       "      <td>1</td>\n",
       "      <td>[6010, 6011, 6010, 5411, 5411, 5977, 6011, 601...</td>\n",
       "      <td>[6011, 6010, 5411, 6011, 6010, 4814, 5411, 482...</td>\n",
       "    </tr>\n",
       "    <tr>\n",
       "      <th>2</th>\n",
       "      <td>2</td>\n",
       "      <td>[4814, 6011, 5251, 6011, 7832, 5641, 5814, 482...</td>\n",
       "      <td>[6011, 6010, 5499, 4814, 5411, 5814, 4829, 581...</td>\n",
       "    </tr>\n",
       "    <tr>\n",
       "      <th>3</th>\n",
       "      <td>3</td>\n",
       "      <td>[6011, 4722, 4722, 4722, 4814, 6011, 6011, 482...</td>\n",
       "      <td>[6011, 4814, 5964, 5411, 4829, 5912, 6010, 601...</td>\n",
       "    </tr>\n",
       "    <tr>\n",
       "      <th>4</th>\n",
       "      <td>4</td>\n",
       "      <td>[4814, 4814, 4814, 6011, 4814, 4814, 4814, 481...</td>\n",
       "      <td>[4814, 6011, 6011, 6010, 4814, 5411, 4829, 549...</td>\n",
       "    </tr>\n",
       "  </tbody>\n",
       "</table>\n",
       "</div>"
      ],
      "text/plain": [
       "   Id                                               Data  \\\n",
       "0   0  [4814, 4814, 6011, 6011, 6010, 6011, 6011, 481...   \n",
       "1   1  [6010, 6011, 6010, 5411, 5411, 5977, 6011, 601...   \n",
       "2   2  [4814, 6011, 5251, 6011, 7832, 5641, 5814, 482...   \n",
       "3   3  [6011, 4722, 4722, 4722, 4814, 6011, 6011, 482...   \n",
       "4   4  [4814, 4814, 4814, 6011, 4814, 4814, 4814, 481...   \n",
       "\n",
       "                                           Predicted  \n",
       "0  [6011, 4814, 6010, 4829, 5499, 5541, 5411, 601...  \n",
       "1  [6011, 6010, 5411, 6011, 6010, 4814, 5411, 482...  \n",
       "2  [6011, 6010, 5499, 4814, 5411, 5814, 4829, 581...  \n",
       "3  [6011, 4814, 5964, 5411, 4829, 5912, 6010, 601...  \n",
       "4  [4814, 6011, 6011, 6010, 4814, 5411, 4829, 549...  "
      ]
     },
     "execution_count": 18,
     "metadata": {},
     "output_type": "execute_result"
    }
   ],
   "source": [
    "df_test.head()"
   ]
  },
  {
   "cell_type": "code",
   "execution_count": 19,
   "metadata": {
    "execution": {
     "iopub.execute_input": "2022-04-29T11:27:47.248322Z",
     "iopub.status.busy": "2022-04-29T11:27:47.248035Z",
     "iopub.status.idle": "2022-04-29T11:27:47.291562Z",
     "shell.execute_reply": "2022-04-29T11:27:47.290485Z",
     "shell.execute_reply.started": "2022-04-29T11:27:47.248294Z"
    }
   },
   "outputs": [],
   "source": [
    "submission_baseline_2 = df_test[['Id', 'Predicted']]\n",
    "submission_baseline_2['Predicted'] = submission_baseline_2.Predicted.astype(str).str.replace(',', '')\n",
    "submission_baseline_2.to_csv('submission_baseline_2.csv', index=False)"
   ]
  }
 ],
 "metadata": {
  "kernelspec": {
   "display_name": "Python 3 (ipykernel)",
   "language": "python",
   "name": "python3"
  },
  "language_info": {
   "codemirror_mode": {
    "name": "ipython",
    "version": 3
   },
   "file_extension": ".py",
   "mimetype": "text/x-python",
   "name": "python",
   "nbconvert_exporter": "python",
   "pygments_lexer": "ipython3",
   "version": "3.8.12"
  }
 },
 "nbformat": 4,
 "nbformat_minor": 4
}
